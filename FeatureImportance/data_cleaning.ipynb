{
 "cells": [
  {
   "cell_type": "code",
   "execution_count": 52,
   "metadata": {},
   "outputs": [],
   "source": [
    "\n",
    "import pandas as pd\n",
    "import re\n",
    "import numpy as np\n",
    "import math\n",
    "\n",
    "\n",
    "\n"
   ]
  },
  {
   "cell_type": "code",
   "execution_count": 53,
   "metadata": {},
   "outputs": [],
   "source": [
    "data = pd.read_csv('co2_data.csv')\n",
    "data = data.to_numpy()\n",
    "\n",
    "#data.isnull().sum()\n"
   ]
  },
  {
   "cell_type": "code",
   "execution_count": 54,
   "metadata": {},
   "outputs": [],
   "source": [
    "length = len(data[0])\n",
    "\n",
    "#filtering\n",
    "for x in range(len(data)):\n",
    "    for y in range(length):\n",
    "        temp = re.sub('[*,]', '', str(data[x,y]))\n",
    "        \n",
    "        try:\n",
    "            temp = float(temp)\n",
    "        except:\n",
    "            temp = temp\n",
    "        #data[x,y] = temp\n",
    "        if(type(temp) != float):\n",
    "            data[x,y] = None\n",
    "        else:\n",
    "            data[x,y] = temp\n",
    "            \n",
    "    \n",
    "    \n",
    "    \n",
    "    "
   ]
  },
  {
   "cell_type": "code",
   "execution_count": 55,
   "metadata": {},
   "outputs": [],
   "source": [
    "columns = ['a','b','c','d','e','f','g','h','i','j','k','l','m','n','o','p','q','r','s','t','u','v','w','x','y','z','1','2']\n",
    "data = pd.DataFrame(data,columns = columns)\n",
    "\n",
    "\n",
    "\n",
    "\n",
    "\n",
    "\n",
    "\n"
   ]
  },
  {
   "cell_type": "code",
   "execution_count": 56,
   "metadata": {},
   "outputs": [],
   "source": [
    "#replace null/none values with respective medians\n",
    "for x in range(len(data)):\n",
    "    if(type(data.loc[x,'a']) != float or math.isnan(data.loc[x]['a'])):\n",
    "        data.loc[x,'a'] = data['a'].median()\n",
    "    if(type(data.loc[x,'b']) != float or math.isnan(data.loc[x]['b'])):\n",
    "        data.loc[x,'b'] = data['b'].median()\n",
    "    if(type(data.loc[x,'c']) != float or math.isnan(data.loc[x]['c'])):\n",
    "        data.loc[x,'c'] = data['c'].median()\n",
    "    if(type(data.loc[x,'d']) != float or math.isnan(data.loc[x]['d'])):\n",
    "        data.loc[x,'d'] = data['d'].median()\n",
    "    if(type(data.loc[x,'e']) != float or math.isnan(data.loc[x]['e'])):\n",
    "        data.loc[x,'e'] = data['e'].median()\n",
    "    if(type(data.loc[x,'f']) != float or math.isnan(data.loc[x]['f'])):\n",
    "        data.loc[x,'f'] = data['f'].median()\n",
    "    if(type(data.loc[x,'g']) != float or math.isnan(data.loc[x]['g'])):\n",
    "        data.loc[x,'g'] = data['g'].median()\n",
    "    if(type(data.loc[x,'h']) != float or math.isnan(data.loc[x]['h'])):\n",
    "        data.loc[x,'h'] = data['h'].median()\n",
    "    if(type(data.loc[x,'i']) != float or math.isnan(data.loc[x]['i'])):\n",
    "        data.loc[x,'i'] = data['i'].median()\n",
    "    if(type(data.loc[x,'j']) != float or math.isnan(data.loc[x]['j'])):\n",
    "        data.loc[x,'j'] = data['j'].median()\n",
    "    if(type(data.loc[x,'k']) != float or math.isnan(data.loc[x]['k'])):\n",
    "        data.loc[x,'k'] = data['k'].median()\n",
    "    if(type(data.loc[x,'l']) != float or math.isnan(data.loc[x]['l'])):\n",
    "        data.loc[x,'l'] = data['l'].median()\n",
    "    if(type(data.loc[x,'m']) != float or math.isnan(data.loc[x]['m'])):\n",
    "        data.loc[x,'m'] = data['m'].median()\n",
    "    if(type(data.loc[x,'n']) != float or math.isnan(data.loc[x]['n'])):\n",
    "        data.loc[x,'n'] = data['n'].median()\n",
    "    if(type(data.loc[x,'o']) != float or math.isnan(data.loc[x]['o'])):\n",
    "        data.loc[x,'o'] = data['o'].median()\n",
    "    if(type(data.loc[x,'p']) != float or math.isnan(data.loc[x]['p'])):\n",
    "        data.loc[x,'p'] = data['p'].median()\n",
    "    if(type(data.loc[x,'q']) != float or math.isnan(data.loc[x]['q'])):\n",
    "        data.loc[x,'q'] = data['q'].median()\n",
    "    if(type(data.loc[x,'r']) != float or math.isnan(data.loc[x]['r'])):\n",
    "        data.loc[x,'r'] = data['r'].median()\n",
    "    if(type(data.loc[x,'s']) != float or math.isnan(data.loc[x]['s'])):\n",
    "        data.loc[x,'s'] = data['s'].median()\n",
    "    if(type(data.loc[x,'t']) != float or math.isnan(data.loc[x]['t'])):\n",
    "        data.loc[x,'t'] = data['t'].median()\n",
    "    if(type(data.loc[x,'u']) != float or math.isnan(data.loc[x]['u'])):\n",
    "        data.loc[x,'u'] = data['u'].median()\n",
    "    if(type(data.loc[x,'v']) != float or math.isnan(data.loc[x]['v'])):\n",
    "        data.loc[x,'v'] = data['v'].median()\n",
    "    if(type(data.loc[x,'w']) != float or math.isnan(data.loc[x]['w'])):\n",
    "        data.loc[x,'w'] = data['w'].median()\n",
    "    if(type(data.loc[x,'x']) != float or math.isnan(data.loc[x]['x'])):\n",
    "        data.loc[x,'x'] = data['x'].median()\n",
    "    if(type(data.loc[x,'y']) != float or math.isnan(data.loc[x]['y'])):\n",
    "        data.loc[x,'y'] = data['y'].median()\n",
    "    if(type(data.loc[x,'z']) != float or math.isnan(data.loc[x]['z'])):\n",
    "        data.loc[x,'z'] = data['z'].median()\n",
    "    if(type(data.loc[x,'1']) != float or math.isnan(data.loc[x]['1'])):\n",
    "        data.loc[x,'1'] = data['1'].median()\n",
    "    if(type(data.loc[x,'2']) != float or math.isnan(data.loc[x]['2'])):\n",
    "        data.loc[x,'2'] = data['2'].median()\n",
    "        \n",
    "        \n",
    "    "
   ]
  },
  {
   "cell_type": "code",
   "execution_count": 57,
   "metadata": {},
   "outputs": [],
   "source": [
    "data.to_csv('data.csv', index = False)\n"
   ]
  }
 ],
 "metadata": {
  "kernelspec": {
   "display_name": "Python 3",
   "language": "python",
   "name": "python3"
  },
  "language_info": {
   "codemirror_mode": {
    "name": "ipython",
    "version": 3
   },
   "file_extension": ".py",
   "mimetype": "text/x-python",
   "name": "python",
   "nbconvert_exporter": "python",
   "pygments_lexer": "ipython3",
   "version": "3.7.6"
  }
 },
 "nbformat": 4,
 "nbformat_minor": 4
}
